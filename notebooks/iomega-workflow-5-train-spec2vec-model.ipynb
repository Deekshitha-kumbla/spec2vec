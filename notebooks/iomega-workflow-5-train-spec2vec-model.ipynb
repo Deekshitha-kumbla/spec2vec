{
 "cells": [
  {
   "cell_type": "markdown",
   "metadata": {},
   "source": [
    "# Train a spec2vec model on mass spectra dataset"
   ]
  },
  {
   "cell_type": "code",
   "execution_count": 1,
   "metadata": {},
   "outputs": [],
   "source": [
    "import os\n",
    "import sys\n",
    "import gensim\n",
    "import numpy as np\n",
    "from matplotlib import pyplot as plt\n",
    "\n",
    "ROOT = os.path.dirname(os.getcwd())\n",
    "#path_data = os.path.join(ROOT, 'data')\n",
    "path_data = 'C:\\\\OneDrive - Netherlands eScience Center\\\\Project_Wageningen_iOMEGA\\\\matchms\\\\data\\\\'\n",
    "sys.path.insert(0, ROOT)"
   ]
  },
  {
   "cell_type": "markdown",
   "metadata": {},
   "source": [
    "### Import pre-processed dataset \"Unique InchiKeys\""
   ]
  },
  {
   "cell_type": "code",
   "execution_count": 2,
   "metadata": {},
   "outputs": [
    {
     "name": "stdout",
     "output_type": "stream",
     "text": [
      "number of spectra: 13717\n"
     ]
    }
   ],
   "source": [
    "from matchms.importing import load_from_json\n",
    "\n",
    "filename = os.path.join(path_data,'gnps_positive_ionmode_unique_inchikey_cleaned_by_matchms_and_lookups.json')\n",
    "spectrums = load_from_json(filename)\n",
    "\n",
    "print(\"number of spectra:\", len(spectrums))"
   ]
  },
  {
   "cell_type": "code",
   "execution_count": 3,
   "metadata": {},
   "outputs": [],
   "source": [
    "number_of_peaks = [len(spec.peaks) for spec in spectrums]"
   ]
  },
  {
   "cell_type": "code",
   "execution_count": 4,
   "metadata": {},
   "outputs": [
    {
     "name": "stdout",
     "output_type": "stream",
     "text": [
      "Maximum number of peaks in one spectrum: 361421\n",
      "Number of spectra with > 1000 peaks: 2698\n",
      "Number of spectra with > 2000 peaks: 1440\n",
      "Number of spectra with > 5000 peaks: 485\n",
      "Careful: Number of spectra with < 10 peaks: 908\n"
     ]
    }
   ],
   "source": [
    "print(\"Maximum number of peaks in one spectrum:\", np.max(number_of_peaks))\n",
    "print(\"Number of spectra with > 1000 peaks:\", np.sum(np.array(number_of_peaks)>1000))\n",
    "print(\"Number of spectra with > 2000 peaks:\", np.sum(np.array(number_of_peaks)>2000))\n",
    "print(\"Number of spectra with > 5000 peaks:\", np.sum(np.array(number_of_peaks)>5000))\n",
    "print(\"Careful: Number of spectra with < 10 peaks:\", np.sum(np.array(number_of_peaks)<10))"
   ]
  },
  {
   "cell_type": "code",
   "execution_count": 5,
   "metadata": {},
   "outputs": [
    {
     "data": {
      "image/png": "[encoded data removed]",
      "text/plain": [
       "<Figure size 864x576 with 1 Axes>"
      ]
     },
     "metadata": {
      "needs_background": "light"
     },
     "output_type": "display_data"
    }
   ],
   "source": [
    "plt.figure(figsize=(12,8))\n",
    "hist = plt.hist(number_of_peaks, np.arange(0,2000,20))"
   ]
  },
  {
   "cell_type": "markdown",
   "metadata": {},
   "source": [
    "### Post-process spectra - Step 1\n",
    "+ Normalize spectrum\n",
    "+ Remove peaks outside m/z ratios between 0 and 1000.0\n",
    "+ Discard spectra with less then 10 remaining peaks"
   ]
  },
  {
   "cell_type": "code",
   "execution_count": 6,
   "metadata": {},
   "outputs": [],
   "source": [
    "from matchms.filtering import normalize_intensities\n",
    "from matchms.filtering import require_minimum_number_of_peaks\n",
    "from matchms.filtering import select_by_mz\n",
    "from matchms.filtering import select_by_relative_intensity\n",
    "from matchms.filtering import reduce_to_number_of_peaks\n",
    "from matchms.filtering import add_losses"
   ]
  },
  {
   "cell_type": "code",
   "execution_count": 7,
   "metadata": {},
   "outputs": [],
   "source": [
    "def post_process(s):\n",
    "    s = normalize_intensities(s)\n",
    "    s = select_by_mz(s, mz_from=0, mz_to=1000)\n",
    "    s = require_minimum_number_of_peaks(s, n_required=10)\n",
    "    return s\n",
    "\n",
    "# apply post processing steps to the data\n",
    "spectrums = [post_process(s) for s in spectrums]\n",
    "\n",
    "# omit spectrums that didn't qualify for analysis\n",
    "spectrums = [s for s in spectrums if s is not None]"
   ]
  },
  {
   "cell_type": "code",
   "execution_count": 8,
   "metadata": {},
   "outputs": [
    {
     "name": "stdout",
     "output_type": "stream",
     "text": [
      "Maximum number of peaks in one spectrum: 228989\n",
      "Number of spectra with > 1000 peaks: 2497\n",
      "Number of spectra with > 2000 peaks: 1222\n",
      "Number of spectra with > 5000 peaks: 335\n",
      "Careful: Number of spectra with < 10 peaks: 0\n"
     ]
    }
   ],
   "source": [
    "number_of_peaks = [len(spec.peaks) for spec in spectrums]\n",
    "\n",
    "print(\"Maximum number of peaks in one spectrum:\", np.max(number_of_peaks))\n",
    "print(\"Number of spectra with > 1000 peaks:\", np.sum(np.array(number_of_peaks)>1000))\n",
    "print(\"Number of spectra with > 2000 peaks:\", np.sum(np.array(number_of_peaks)>2000))\n",
    "print(\"Number of spectra with > 5000 peaks:\", np.sum(np.array(number_of_peaks)>5000))\n",
    "print(\"Careful: Number of spectra with < 10 peaks:\", np.sum(np.array(number_of_peaks)<10))"
   ]
  },
  {
   "cell_type": "code",
   "execution_count": 9,
   "metadata": {},
   "outputs": [
    {
     "data": {
      "image/png": "[encoded data removed]",
      "text/plain": [
       "<Figure size 864x576 with 1 Axes>"
      ]
     },
     "metadata": {
      "needs_background": "light"
     },
     "output_type": "display_data"
    }
   ],
   "source": [
    "plt.figure(figsize=(12,8))\n",
    "hist = plt.hist(number_of_peaks, np.arange(0,2000,20))"
   ]
  },
  {
   "cell_type": "markdown",
   "metadata": {},
   "source": [
    "### Post-process spectra - step 2\n",
    "+ Reduce number of peaks (scaled with parent-mass)."
   ]
  },
  {
   "cell_type": "code",
   "execution_count": 10,
   "metadata": {},
   "outputs": [],
   "source": [
    "def post_process_step2(s):\n",
    "    s = reduce_to_number_of_peaks(s, n_required=10, ratio_desired=0.5)\n",
    "    return s\n",
    "\n",
    "# apply post processing steps to the data\n",
    "spectrums = [post_process_step2(s) for s in spectrums]\n",
    "\n",
    "# omit spectrums that didn't qualify for analysis\n",
    "spectrums = [s for s in spectrums if s is not None]"
   ]
  },
  {
   "cell_type": "code",
   "execution_count": 11,
   "metadata": {},
   "outputs": [
    {
     "name": "stdout",
     "output_type": "stream",
     "text": [
      "Maximum number of peaks in one spectrum: 1001\n",
      "Number of spectra with > 1000 peaks: 1\n",
      "Number of spectra with > 2000 peaks: 0\n",
      "Number of spectra with > 5000 peaks: 0\n"
     ]
    }
   ],
   "source": [
    "number_of_peaks = [len(spec.peaks) for spec in spectrums]\n",
    "\n",
    "print(\"Maximum number of peaks in one spectrum:\", np.max(number_of_peaks))\n",
    "print(\"Number of spectra with > 1000 peaks:\", np.sum(np.array(number_of_peaks)>1000))\n",
    "print(\"Number of spectra with > 2000 peaks:\", np.sum(np.array(number_of_peaks)>2000))\n",
    "print(\"Number of spectra with > 5000 peaks:\", np.sum(np.array(number_of_peaks)>5000))"
   ]
  },
  {
   "cell_type": "code",
   "execution_count": 12,
   "metadata": {},
   "outputs": [
    {
     "data": {
      "image/png": "[encoded data removed]",
      "text/plain": [
       "<Figure size 864x576 with 1 Axes>"
      ]
     },
     "metadata": {
      "needs_background": "light"
     },
     "output_type": "display_data"
    }
   ],
   "source": [
    "plt.figure(figsize=(12,8))\n",
    "hist = plt.hist(number_of_peaks, np.arange(0,2000,20))"
   ]
  },
  {
   "cell_type": "markdown",
   "metadata": {},
   "source": [
    "### Remove small peaks (<0.001 rel. intensity) if at least 10 peaks would remain"
   ]
  },
  {
   "cell_type": "code",
   "execution_count": 13,
   "metadata": {},
   "outputs": [],
   "source": [
    "spectrums_postprocessed = []\n",
    "for spec in spectrums:\n",
    "    s = select_by_relative_intensity(spec, intensity_from=0.001)\n",
    "    if len(s.peaks) >= 10:\n",
    "        spectrums_postprocessed.append(s)\n",
    "    else:\n",
    "        spectrums_postprocessed.append(spec.clone())"
   ]
  },
  {
   "cell_type": "code",
   "execution_count": 14,
   "metadata": {},
   "outputs": [
    {
     "name": "stdout",
     "output_type": "stream",
     "text": [
      "Maximum number of peaks in one spectrum: 1001\n",
      "Number of spectra with > 1000 peaks: 1\n",
      "Number of spectra with > 2000 peaks: 0\n",
      "Number of spectra with > 5000 peaks: 0\n",
      "Careful: Number of spectra with < 10 peaks: 0\n"
     ]
    }
   ],
   "source": [
    "number_of_peaks = [len(spec.peaks) for spec in spectrums_postprocessed]\n",
    "\n",
    "print(\"Maximum number of peaks in one spectrum:\", np.max(number_of_peaks))\n",
    "print(\"Number of spectra with > 1000 peaks:\", np.sum(np.array(number_of_peaks)>1000))\n",
    "print(\"Number of spectra with > 2000 peaks:\", np.sum(np.array(number_of_peaks)>2000))\n",
    "print(\"Number of spectra with > 5000 peaks:\", np.sum(np.array(number_of_peaks)>5000))\n",
    "print(\"Careful: Number of spectra with < 10 peaks:\", np.sum(np.array(number_of_peaks)<10))"
   ]
  },
  {
   "cell_type": "code",
   "execution_count": 15,
   "metadata": {},
   "outputs": [
    {
     "data": {
      "image/png": "[encoded data removed]",
      "text/plain": [
       "<Figure size 864x576 with 1 Axes>"
      ]
     },
     "metadata": {
      "needs_background": "light"
     },
     "output_type": "display_data"
    }
   ],
   "source": [
    "plt.figure(figsize=(12,8))\n",
    "hist = plt.hist(number_of_peaks, np.arange(0,2000,20))"
   ]
  },
  {
   "cell_type": "markdown",
   "metadata": {},
   "source": [
    "## Add neutral losses (within 0 to 200 m/z)"
   ]
  },
  {
   "cell_type": "code",
   "execution_count": 16,
   "metadata": {},
   "outputs": [],
   "source": [
    "spectrums_postprocessed = [add_losses(s, loss_mz_from=5.0, loss_mz_to=200.0) for s in spectrums_postprocessed]"
   ]
  },
  {
   "cell_type": "markdown",
   "metadata": {},
   "source": [
    "# Convert spectra to document and train spec2vec model"
   ]
  },
  {
   "cell_type": "code",
   "execution_count": 17,
   "metadata": {},
   "outputs": [],
   "source": [
    "from spec2vec import Spec2VecParallel\n",
    "from spec2vec import SpectrumDocument"
   ]
  },
  {
   "cell_type": "code",
   "execution_count": 18,
   "metadata": {},
   "outputs": [],
   "source": [
    "documents = [SpectrumDocument(s, n_decimals=2) for s in spectrums_postprocessed]"
   ]
  },
  {
   "cell_type": "code",
   "execution_count": 19,
   "metadata": {},
   "outputs": [
    {
     "data": {
      "text/plain": [
       "['peak@289.29',\n",
       " 'peak@295.55',\n",
       " 'peak@298.49',\n",
       " 'peak@317.32',\n",
       " 'peak@319.66',\n",
       " 'peak@324.48',\n",
       " 'peak@325.32',\n",
       " 'peak@339.79',\n",
       " 'peak@343.95',\n",
       " 'peak@347.02',\n",
       " 'peak@347.91',\n",
       " 'peak@361.15',\n",
       " 'peak@361.84',\n",
       " 'peak@364.23',\n",
       " 'peak@364.86',\n",
       " 'peak@365.85',\n",
       " 'peak@368.22',\n",
       " 'peak@368.97',\n",
       " 'peak@375.07',\n",
       " 'peak@375.75',\n",
       " 'peak@382.75',\n",
       " 'peak@384.20',\n",
       " 'peak@390.57',\n",
       " 'peak@394.05',\n",
       " 'peak@397.11',\n",
       " 'peak@404.42',\n",
       " 'peak@411.09',\n",
       " 'peak@413.78',\n",
       " 'peak@427.67',\n",
       " 'peak@436.19',\n",
       " 'peak@443.27',\n",
       " 'peak@446.27',\n",
       " 'peak@447.75',\n",
       " 'peak@455.25',\n",
       " 'peak@456.11',\n",
       " 'peak@457.54',\n",
       " 'peak@464.29',\n",
       " 'peak@469.87',\n",
       " 'peak@471.06',\n",
       " 'peak@475.26',\n",
       " 'peak@476.14',\n",
       " 'peak@476.98',\n",
       " 'peak@478.89',\n",
       " 'peak@479.98',\n",
       " 'peak@483.24',\n",
       " 'peak@487.21',\n",
       " 'peak@488.16',\n",
       " 'peak@491.19',\n",
       " 'peak@494.28',\n",
       " 'peak@495.65',\n",
       " 'peak@498.41',\n",
       " 'peak@503.03',\n",
       " 'peak@504.34',\n",
       " 'peak@505.15',\n",
       " 'peak@510.18',\n",
       " 'peak@512.17',\n",
       " 'peak@513.27',\n",
       " 'peak@514.96',\n",
       " 'peak@515.92',\n",
       " 'peak@520.97',\n",
       " 'peak@521.82',\n",
       " 'peak@523.17',\n",
       " 'peak@529.04',\n",
       " 'peak@530.99',\n",
       " 'peak@532.38',\n",
       " 'peak@534.58',\n",
       " 'peak@538.00',\n",
       " 'peak@539.22',\n",
       " 'peak@540.67',\n",
       " 'peak@548.06',\n",
       " 'peak@554.12',\n",
       " 'peak@556.03',\n",
       " 'peak@557.29',\n",
       " 'peak@558.00',\n",
       " 'peak@559.94',\n",
       " 'peak@561.33',\n",
       " 'peak@564.12',\n",
       " 'peak@564.95',\n",
       " 'peak@566.44',\n",
       " 'peak@571.33',\n",
       " 'peak@572.05',\n",
       " 'peak@575.22',\n",
       " 'peak@577.10',\n",
       " 'peak@579.65',\n",
       " 'peak@580.94',\n",
       " 'peak@582.11',\n",
       " 'peak@583.46',\n",
       " 'peak@585.24',\n",
       " 'peak@598.17',\n",
       " 'peak@599.35',\n",
       " 'peak@600.38',\n",
       " 'peak@602.27',\n",
       " 'peak@609.30',\n",
       " 'peak@613.42',\n",
       " 'peak@622.21',\n",
       " 'peak@623.02',\n",
       " 'peak@623.99',\n",
       " 'peak@625.22',\n",
       " 'peak@638.30',\n",
       " 'peak@640.27',\n",
       " 'peak@641.24',\n",
       " 'peak@646.10',\n",
       " 'peak@649.28',\n",
       " 'peak@651.53',\n",
       " 'peak@657.13',\n",
       " 'peak@658.09',\n",
       " 'peak@659.42',\n",
       " 'peak@663.39',\n",
       " 'peak@668.33',\n",
       " 'peak@669.36',\n",
       " 'peak@680.22',\n",
       " 'peak@681.99',\n",
       " 'peak@685.96',\n",
       " 'peak@691.65',\n",
       " 'peak@693.23',\n",
       " 'peak@694.31',\n",
       " 'peak@696.33',\n",
       " 'peak@697.13',\n",
       " 'peak@709.46',\n",
       " 'peak@710.80',\n",
       " 'peak@711.74',\n",
       " 'peak@714.07',\n",
       " 'peak@715.58',\n",
       " 'peak@723.27',\n",
       " 'peak@724.08',\n",
       " 'peak@725.49',\n",
       " 'peak@728.35',\n",
       " 'peak@735.81',\n",
       " 'peak@738.35',\n",
       " 'peak@744.37',\n",
       " 'peak@747.46',\n",
       " 'peak@753.27',\n",
       " 'peak@761.61',\n",
       " 'peak@764.46',\n",
       " 'peak@765.28',\n",
       " 'peak@769.28',\n",
       " 'peak@770.33',\n",
       " 'peak@771.39',\n",
       " 'peak@787.43',\n",
       " 'peak@796.14',\n",
       " 'peak@797.23',\n",
       " 'peak@806.56',\n",
       " 'peak@808.44',\n",
       " 'peak@811.64',\n",
       " 'peak@812.30',\n",
       " 'peak@813.15',\n",
       " 'peak@817.22',\n",
       " 'peak@820.27',\n",
       " 'peak@821.29',\n",
       " 'peak@823.36',\n",
       " 'peak@824.62',\n",
       " 'peak@828.52',\n",
       " 'peak@830.41',\n",
       " 'peak@831.31',\n",
       " 'peak@832.11',\n",
       " 'peak@833.18',\n",
       " 'peak@835.21',\n",
       " 'peak@836.08',\n",
       " 'peak@838.52',\n",
       " 'peak@839.46',\n",
       " 'peak@845.61',\n",
       " 'peak@847.43',\n",
       " 'peak@848.13',\n",
       " 'peak@851.38',\n",
       " 'peak@852.37',\n",
       " 'peak@853.27',\n",
       " 'peak@865.60',\n",
       " 'peak@866.30',\n",
       " 'peak@867.19',\n",
       " 'peak@868.37',\n",
       " 'peak@869.33',\n",
       " 'peak@871.56',\n",
       " 'peak@877.14',\n",
       " 'peak@880.22',\n",
       " 'peak@883.44',\n",
       " 'peak@888.17',\n",
       " 'peak@889.28',\n",
       " 'peak@892.13',\n",
       " 'peak@893.47',\n",
       " 'peak@895.61',\n",
       " 'peak@899.01',\n",
       " 'peak@901.35',\n",
       " 'peak@902.33',\n",
       " 'peak@909.42',\n",
       " 'peak@910.52',\n",
       " 'peak@911.53',\n",
       " 'peak@914.31',\n",
       " 'peak@915.22',\n",
       " 'peak@918.67',\n",
       " 'peak@919.40',\n",
       " 'peak@921.12',\n",
       " 'peak@922.21',\n",
       " 'peak@925.06',\n",
       " 'peak@931.13',\n",
       " 'peak@932.35',\n",
       " 'peak@933.52',\n",
       " 'peak@935.49',\n",
       " 'peak@936.55',\n",
       " 'peak@937.59',\n",
       " 'peak@938.47',\n",
       " 'peak@939.62',\n",
       " 'peak@946.26',\n",
       " 'peak@949.37',\n",
       " 'peak@950.28',\n",
       " 'peak@951.55',\n",
       " 'peak@953.40',\n",
       " 'peak@954.49',\n",
       " 'peak@963.69',\n",
       " 'peak@964.52',\n",
       " 'peak@965.19',\n",
       " 'peak@982.22',\n",
       " 'loss@16.35',\n",
       " 'loss@17.02',\n",
       " 'loss@17.85',\n",
       " 'loss@27.05',\n",
       " 'loss@28.14',\n",
       " 'loss@29.99',\n",
       " 'loss@31.26',\n",
       " 'loss@32.17',\n",
       " 'loss@35.28',\n",
       " 'loss@41.92',\n",
       " 'loss@43.07',\n",
       " 'loss@43.95',\n",
       " 'loss@44.99',\n",
       " 'loss@46.05',\n",
       " 'loss@48.02',\n",
       " 'loss@49.19',\n",
       " 'loss@50.41',\n",
       " 'loss@56.48',\n",
       " 'loss@59.33',\n",
       " 'loss@60.42',\n",
       " 'loss@62.14',\n",
       " 'loss@62.87',\n",
       " 'loss@66.32',\n",
       " 'loss@67.23',\n",
       " 'loss@70.01',\n",
       " 'loss@71.02',\n",
       " 'loss@72.12',\n",
       " 'loss@79.21',\n",
       " 'loss@80.19',\n",
       " 'loss@82.53',\n",
       " 'loss@85.93',\n",
       " 'loss@88.07',\n",
       " 'loss@89.41',\n",
       " 'loss@92.26',\n",
       " 'loss@93.37',\n",
       " 'loss@98.10',\n",
       " 'loss@101.32',\n",
       " 'loss@104.40',\n",
       " 'loss@109.98',\n",
       " 'loss@112.21',\n",
       " 'loss@113.17',\n",
       " 'loss@114.35',\n",
       " 'loss@115.24',\n",
       " 'loss@115.94',\n",
       " 'loss@128.27',\n",
       " 'loss@129.17',\n",
       " 'loss@130.16',\n",
       " 'loss@133.41',\n",
       " 'loss@134.11',\n",
       " 'loss@135.93',\n",
       " 'loss@142.08',\n",
       " 'loss@143.02',\n",
       " 'loss@145.46',\n",
       " 'loss@146.33',\n",
       " 'loss@148.36',\n",
       " 'loss@149.43',\n",
       " 'loss@150.23',\n",
       " 'loss@151.13',\n",
       " 'loss@153.02',\n",
       " 'loss@156.92',\n",
       " 'loss@158.18',\n",
       " 'loss@160.25',\n",
       " 'loss@161.27',\n",
       " 'loss@164.32',\n",
       " 'loss@168.39',\n",
       " 'loss@169.24',\n",
       " 'loss@169.90',\n",
       " 'loss@173.10',\n",
       " 'loss@174.98',\n",
       " 'loss@184.31',\n",
       " 'loss@185.40',\n",
       " 'loss@194.11']"
      ]
     },
     "execution_count": 19,
     "metadata": {},
     "output_type": "execute_result"
    }
   ],
   "source": [
    "documents[0].words"
   ]
  },
  {
   "cell_type": "code",
   "execution_count": 20,
   "metadata": {},
   "outputs": [
    {
     "name": "stdout",
     "output_type": "stream",
     "text": [
      "  Epoch 1 of 30.Change in loss after epoch 1: 1722169.125\n",
      "Saving model with name: C:\\OneDrive - Netherlands eScience Center\\Project_Wageningen_iOMEGA\\matchms\\data\\trained_models\\spec2vec_UniqueInchikeys_ratio05_filtered_iter_1.model\n",
      "  Epoch 2 of 30.Change in loss after epoch 2: 1336853.875\n",
      "  Epoch 3 of 30.Change in loss after epoch 3: 1212687.5\n",
      "  Epoch 4 of 30.Change in loss after epoch 4: 1090572.0\n",
      "  Epoch 5 of 30.Change in loss after epoch 5: 1049326.5\n",
      "Saving model with name: C:\\OneDrive - Netherlands eScience Center\\Project_Wageningen_iOMEGA\\matchms\\data\\trained_models\\spec2vec_UniqueInchikeys_ratio05_filtered_iter_5.model\n",
      "  Epoch 6 of 30.Change in loss after epoch 6: 1032248.0\n",
      "  Epoch 7 of 30.Change in loss after epoch 7: 994293.0\n",
      "  Epoch 8 of 30.Change in loss after epoch 8: 857002.0\n",
      "  Epoch 9 of 30.Change in loss after epoch 9: 841451.0\n",
      "  Epoch 10 of 30.Change in loss after epoch 10: 834496.0\n",
      "Saving model with name: C:\\OneDrive - Netherlands eScience Center\\Project_Wageningen_iOMEGA\\matchms\\data\\trained_models\\spec2vec_UniqueInchikeys_ratio05_filtered_iter_10.model\n",
      "  Epoch 11 of 30.Change in loss after epoch 11: 796360.0\n",
      "  Epoch 12 of 30.Change in loss after epoch 12: 788770.0\n",
      "  Epoch 13 of 30.Change in loss after epoch 13: 779582.0\n",
      "  Epoch 14 of 30.Change in loss after epoch 14: 763446.0\n",
      "  Epoch 15 of 30.Change in loss after epoch 15: 734137.0\n",
      "Saving model with name: C:\\OneDrive - Netherlands eScience Center\\Project_Wageningen_iOMEGA\\matchms\\data\\trained_models\\spec2vec_UniqueInchikeys_ratio05_filtered_iter_15.model\n",
      "  Epoch 16 of 30.Change in loss after epoch 16: 715219.0\n",
      "  Epoch 17 of 30.Change in loss after epoch 17: 700251.0\n",
      "  Epoch 18 of 30.Change in loss after epoch 18: 640352.0\n",
      "  Epoch 19 of 30.Change in loss after epoch 19: 509606.0\n",
      "  Epoch 20 of 30.Change in loss after epoch 20: 495080.0\n",
      "Saving model with name: C:\\OneDrive - Netherlands eScience Center\\Project_Wageningen_iOMEGA\\matchms\\data\\trained_models\\spec2vec_UniqueInchikeys_ratio05_filtered_iter_20.model\n",
      "  Epoch 21 of 30.Change in loss after epoch 21: 471960.0\n",
      "  Epoch 22 of 30.Change in loss after epoch 22: 455538.0\n",
      "  Epoch 23 of 30.Change in loss after epoch 23: 447604.0\n",
      "  Epoch 24 of 30.Change in loss after epoch 24: 437536.0\n",
      "  Epoch 25 of 30.Change in loss after epoch 25: 414050.0\n",
      "Saving model with name: C:\\OneDrive - Netherlands eScience Center\\Project_Wageningen_iOMEGA\\matchms\\data\\trained_models\\spec2vec_UniqueInchikeys_ratio05_filtered_iter_25.model\n",
      "  Epoch 26 of 30.Change in loss after epoch 26: 406362.0\n",
      "  Epoch 27 of 30.Change in loss after epoch 27: 392162.0\n",
      "  Epoch 28 of 30.Change in loss after epoch 28: 375224.0\n",
      "  Epoch 29 of 30.Change in loss after epoch 29: 370644.0\n",
      "  Epoch 30 of 30.Change in loss after epoch 30: 354358.0\n",
      "Saving model with name: C:\\OneDrive - Netherlands eScience Center\\Project_Wageningen_iOMEGA\\matchms\\data\\trained_models\\spec2vec_UniqueInchikeys_ratio05_filtered_iter_30.model\n"
     ]
    }
   ],
   "source": [
    "from custom_functions.utils_spec2vec import EpochLogger, ModelSaver\n",
    "\n",
    "path_models = os.path.join(path_data, \"trained_models\")\n",
    "model_file = os.path.join(path_models, \"spec2vec_UniqueInchikeys_ratio05_filtered.model\")\n",
    "\n",
    "# create and train model\n",
    "learning_rate_initial = 0.025\n",
    "learning_rate_decay = 0.00025\n",
    "iterations = [1, 4, 5, 5, 5, 5, 5]\n",
    "num_of_epochs = np.sum(iterations)\n",
    "\n",
    "min_alpha = learning_rate_initial - num_of_epochs * learning_rate_decay\n",
    "if min_alpha < 0:\n",
    "    print(\"Warning! Number of iterations is too high for specified learning_rate decay.\")\n",
    "    print(\"Learning_rate_decay will be set from\",\n",
    "          learning_rate_decay, \"to\",\n",
    "          learning_rate_initial/num_of_epochs)\n",
    "    min_alpha = 0\n",
    "\n",
    "epochlogger = EpochLogger(num_of_epochs)\n",
    "modelsaver = ModelSaver(num_of_epochs, iterations, model_file)\n",
    "model = gensim.models.Word2Vec([d.words for d in documents], sg=0, negative=5,\n",
    "                               size=300, window=500, min_count=1, workers=4,\n",
    "                               iter=num_of_epochs, alpha=learning_rate_initial,\n",
    "                               min_alpha=min_alpha, seed=321, compute_loss=True,\n",
    "                               callbacks = [epochlogger, modelsaver])"
   ]
  }
 ],
 "metadata": {
  "kernelspec": {
   "display_name": "Python 3",
   "language": "python",
   "name": "python3"
  },
  "language_info": {
   "codemirror_mode": {
    "name": "ipython",
    "version": 3
   },
   "file_extension": ".py",
   "mimetype": "text/x-python",
   "name": "python",
   "nbconvert_exporter": "python",
   "pygments_lexer": "ipython3",
   "version": "3.7.6"
  }
 },
 "nbformat": 4,
 "nbformat_minor": 4
}
